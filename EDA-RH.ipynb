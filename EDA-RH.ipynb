{
 "cells": [
  {
   "cell_type": "code",
   "execution_count": 62,
   "metadata": {},
   "outputs": [],
   "source": [
    "import pandas as pd\n",
    "import numpy as np\n",
    "import matplotlib.pyplot as plt\n",
    "import seaborn as sns\n",
    "import ydata_profiling as pp\n"
   ]
  },
  {
   "cell_type": "code",
   "execution_count": 63,
   "metadata": {},
   "outputs": [
    {
     "data": {
      "text/html": [
       "<div>\n",
       "<style scoped>\n",
       "    .dataframe tbody tr th:only-of-type {\n",
       "        vertical-align: middle;\n",
       "    }\n",
       "\n",
       "    .dataframe tbody tr th {\n",
       "        vertical-align: top;\n",
       "    }\n",
       "\n",
       "    .dataframe thead th {\n",
       "        text-align: right;\n",
       "    }\n",
       "</style>\n",
       "<table border=\"1\" class=\"dataframe\">\n",
       "  <thead>\n",
       "    <tr style=\"text-align: right;\">\n",
       "      <th></th>\n",
       "      <th>Data_Contratacao</th>\n",
       "      <th>Data_Desligamento</th>\n",
       "      <th>Meses_de_Servico</th>\n",
       "      <th>Idade</th>\n",
       "      <th>Pontuacao_Desempenho</th>\n",
       "      <th>Satisfacao_Trabalho</th>\n",
       "      <th>Nivel_Cargo</th>\n",
       "      <th>Salario</th>\n",
       "      <th>Horas_Extras</th>\n",
       "      <th>Desligamento</th>\n",
       "    </tr>\n",
       "  </thead>\n",
       "  <tbody>\n",
       "    <tr>\n",
       "      <th>0</th>\n",
       "      <td>2024-02-14</td>\n",
       "      <td>NaT</td>\n",
       "      <td>3</td>\n",
       "      <td>24</td>\n",
       "      <td>2.066788</td>\n",
       "      <td>2.043644</td>\n",
       "      <td>Pleno</td>\n",
       "      <td>4994.41</td>\n",
       "      <td>15.465241</td>\n",
       "      <td>0</td>\n",
       "    </tr>\n",
       "    <tr>\n",
       "      <th>1</th>\n",
       "      <td>2023-11-16</td>\n",
       "      <td>2024-05-14</td>\n",
       "      <td>6</td>\n",
       "      <td>43</td>\n",
       "      <td>3.256257</td>\n",
       "      <td>1.711719</td>\n",
       "      <td>Sênior</td>\n",
       "      <td>8798.34</td>\n",
       "      <td>19.036627</td>\n",
       "      <td>1</td>\n",
       "    </tr>\n",
       "    <tr>\n",
       "      <th>2</th>\n",
       "      <td>2023-11-16</td>\n",
       "      <td>NaT</td>\n",
       "      <td>6</td>\n",
       "      <td>45</td>\n",
       "      <td>4.827732</td>\n",
       "      <td>3.480214</td>\n",
       "      <td>Sênior</td>\n",
       "      <td>8891.02</td>\n",
       "      <td>13.326408</td>\n",
       "      <td>0</td>\n",
       "    </tr>\n",
       "    <tr>\n",
       "      <th>3</th>\n",
       "      <td>2023-05-20</td>\n",
       "      <td>NaT</td>\n",
       "      <td>12</td>\n",
       "      <td>31</td>\n",
       "      <td>1.453944</td>\n",
       "      <td>1.617558</td>\n",
       "      <td>Pleno</td>\n",
       "      <td>7606.22</td>\n",
       "      <td>14.209663</td>\n",
       "      <td>0</td>\n",
       "    </tr>\n",
       "    <tr>\n",
       "      <th>4</th>\n",
       "      <td>2022-07-24</td>\n",
       "      <td>NaT</td>\n",
       "      <td>22</td>\n",
       "      <td>37</td>\n",
       "      <td>2.088917</td>\n",
       "      <td>2.763390</td>\n",
       "      <td>Sênior</td>\n",
       "      <td>9236.03</td>\n",
       "      <td>11.059687</td>\n",
       "      <td>0</td>\n",
       "    </tr>\n",
       "  </tbody>\n",
       "</table>\n",
       "</div>"
      ],
      "text/plain": [
       "  Data_Contratacao Data_Desligamento  Meses_de_Servico  Idade  \\\n",
       "0       2024-02-14               NaT                 3     24   \n",
       "1       2023-11-16        2024-05-14                 6     43   \n",
       "2       2023-11-16               NaT                 6     45   \n",
       "3       2023-05-20               NaT                12     31   \n",
       "4       2022-07-24               NaT                22     37   \n",
       "\n",
       "   Pontuacao_Desempenho  Satisfacao_Trabalho Nivel_Cargo  Salario  \\\n",
       "0              2.066788             2.043644       Pleno  4994.41   \n",
       "1              3.256257             1.711719      Sênior  8798.34   \n",
       "2              4.827732             3.480214      Sênior  8891.02   \n",
       "3              1.453944             1.617558       Pleno  7606.22   \n",
       "4              2.088917             2.763390      Sênior  9236.03   \n",
       "\n",
       "   Horas_Extras  Desligamento  \n",
       "0     15.465241             0  \n",
       "1     19.036627             1  \n",
       "2     13.326408             0  \n",
       "3     14.209663             0  \n",
       "4     11.059687             0  "
      ]
     },
     "execution_count": 63,
     "metadata": {},
     "output_type": "execute_result"
    }
   ],
   "source": [
    "df = pd.read_excel(\"Cópia de Base_dados_-_Rotatividade_RH.xlsx\")\n",
    "df.head()"
   ]
  },
  {
   "cell_type": "markdown",
   "metadata": {},
   "source": [
    "Quais as principais características que fazem um profissional sair da empresa?\n",
    "- Qual percentual total comparado com os que não se demitiram?\n",
    "- Qual o tempo médio de permanência e com está distribuído (Histograma)?\n",
    "- O nível de satisfação, Horas extras, desempenho influencia nessa decisão? (Profissionais muito bons saem para um oportunidade \"melhor, profissionais ruins estão tendo a síndrome do impostor?)"
   ]
  },
  {
   "cell_type": "code",
   "execution_count": 64,
   "metadata": {},
   "outputs": [
    {
     "data": {
      "text/html": [
       "<div>\n",
       "<style scoped>\n",
       "    .dataframe tbody tr th:only-of-type {\n",
       "        vertical-align: middle;\n",
       "    }\n",
       "\n",
       "    .dataframe tbody tr th {\n",
       "        vertical-align: top;\n",
       "    }\n",
       "\n",
       "    .dataframe thead th {\n",
       "        text-align: right;\n",
       "    }\n",
       "</style>\n",
       "<table border=\"1\" class=\"dataframe\">\n",
       "  <thead>\n",
       "    <tr style=\"text-align: right;\">\n",
       "      <th></th>\n",
       "      <th>Data_Contratacao</th>\n",
       "      <th>Data_Desligamento</th>\n",
       "      <th>Meses_de_Servico</th>\n",
       "      <th>Idade</th>\n",
       "      <th>Pontuacao_Desempenho</th>\n",
       "      <th>Satisfacao_Trabalho</th>\n",
       "      <th>Nivel_Cargo</th>\n",
       "      <th>Salario</th>\n",
       "      <th>Horas_Extras</th>\n",
       "      <th>Desligamento</th>\n",
       "    </tr>\n",
       "  </thead>\n",
       "  <tbody>\n",
       "    <tr>\n",
       "      <th>1</th>\n",
       "      <td>2023-11-16</td>\n",
       "      <td>2024-05-14</td>\n",
       "      <td>6</td>\n",
       "      <td>43</td>\n",
       "      <td>3.256257</td>\n",
       "      <td>1.711719</td>\n",
       "      <td>Sênior</td>\n",
       "      <td>8798.34</td>\n",
       "      <td>19.036627</td>\n",
       "      <td>1</td>\n",
       "    </tr>\n",
       "    <tr>\n",
       "      <th>5</th>\n",
       "      <td>2022-05-25</td>\n",
       "      <td>2024-05-14</td>\n",
       "      <td>24</td>\n",
       "      <td>43</td>\n",
       "      <td>4.328231</td>\n",
       "      <td>3.209761</td>\n",
       "      <td>Sênior</td>\n",
       "      <td>10466.00</td>\n",
       "      <td>13.933565</td>\n",
       "      <td>1</td>\n",
       "    </tr>\n",
       "    <tr>\n",
       "      <th>7</th>\n",
       "      <td>2023-08-18</td>\n",
       "      <td>2024-05-14</td>\n",
       "      <td>9</td>\n",
       "      <td>30</td>\n",
       "      <td>1.086755</td>\n",
       "      <td>1.908626</td>\n",
       "      <td>Pleno</td>\n",
       "      <td>6058.88</td>\n",
       "      <td>13.626713</td>\n",
       "      <td>1</td>\n",
       "    </tr>\n",
       "    <tr>\n",
       "      <th>12</th>\n",
       "      <td>2022-03-26</td>\n",
       "      <td>2024-05-14</td>\n",
       "      <td>26</td>\n",
       "      <td>28</td>\n",
       "      <td>2.733115</td>\n",
       "      <td>1.820046</td>\n",
       "      <td>Pleno</td>\n",
       "      <td>7252.12</td>\n",
       "      <td>6.230965</td>\n",
       "      <td>1</td>\n",
       "    </tr>\n",
       "    <tr>\n",
       "      <th>20</th>\n",
       "      <td>2022-10-22</td>\n",
       "      <td>2024-05-14</td>\n",
       "      <td>19</td>\n",
       "      <td>27</td>\n",
       "      <td>4.123725</td>\n",
       "      <td>4.465835</td>\n",
       "      <td>Pleno</td>\n",
       "      <td>7359.37</td>\n",
       "      <td>2.489000</td>\n",
       "      <td>1</td>\n",
       "    </tr>\n",
       "    <tr>\n",
       "      <th>...</th>\n",
       "      <td>...</td>\n",
       "      <td>...</td>\n",
       "      <td>...</td>\n",
       "      <td>...</td>\n",
       "      <td>...</td>\n",
       "      <td>...</td>\n",
       "      <td>...</td>\n",
       "      <td>...</td>\n",
       "      <td>...</td>\n",
       "      <td>...</td>\n",
       "    </tr>\n",
       "    <tr>\n",
       "      <th>634</th>\n",
       "      <td>2021-08-28</td>\n",
       "      <td>2024-05-14</td>\n",
       "      <td>33</td>\n",
       "      <td>24</td>\n",
       "      <td>3.942960</td>\n",
       "      <td>1.273013</td>\n",
       "      <td>Junior</td>\n",
       "      <td>4561.45</td>\n",
       "      <td>19.068107</td>\n",
       "      <td>1</td>\n",
       "    </tr>\n",
       "    <tr>\n",
       "      <th>639</th>\n",
       "      <td>2023-11-16</td>\n",
       "      <td>2024-05-14</td>\n",
       "      <td>6</td>\n",
       "      <td>23</td>\n",
       "      <td>3.000086</td>\n",
       "      <td>4.095554</td>\n",
       "      <td>Junior</td>\n",
       "      <td>2313.07</td>\n",
       "      <td>5.863529</td>\n",
       "      <td>1</td>\n",
       "    </tr>\n",
       "    <tr>\n",
       "      <th>640</th>\n",
       "      <td>2022-04-25</td>\n",
       "      <td>2024-05-14</td>\n",
       "      <td>25</td>\n",
       "      <td>32</td>\n",
       "      <td>4.986163</td>\n",
       "      <td>4.746069</td>\n",
       "      <td>Pleno</td>\n",
       "      <td>4353.67</td>\n",
       "      <td>0.089801</td>\n",
       "      <td>1</td>\n",
       "    </tr>\n",
       "    <tr>\n",
       "      <th>642</th>\n",
       "      <td>2022-09-22</td>\n",
       "      <td>2024-05-14</td>\n",
       "      <td>20</td>\n",
       "      <td>23</td>\n",
       "      <td>4.721714</td>\n",
       "      <td>3.340184</td>\n",
       "      <td>Pleno</td>\n",
       "      <td>4709.75</td>\n",
       "      <td>19.098905</td>\n",
       "      <td>1</td>\n",
       "    </tr>\n",
       "    <tr>\n",
       "      <th>643</th>\n",
       "      <td>2021-08-28</td>\n",
       "      <td>2024-05-14</td>\n",
       "      <td>33</td>\n",
       "      <td>22</td>\n",
       "      <td>3.573676</td>\n",
       "      <td>4.717769</td>\n",
       "      <td>Pleno</td>\n",
       "      <td>5400.65</td>\n",
       "      <td>9.485336</td>\n",
       "      <td>1</td>\n",
       "    </tr>\n",
       "  </tbody>\n",
       "</table>\n",
       "<p>144 rows × 10 columns</p>\n",
       "</div>"
      ],
      "text/plain": [
       "    Data_Contratacao Data_Desligamento  Meses_de_Servico  Idade  \\\n",
       "1         2023-11-16        2024-05-14                 6     43   \n",
       "5         2022-05-25        2024-05-14                24     43   \n",
       "7         2023-08-18        2024-05-14                 9     30   \n",
       "12        2022-03-26        2024-05-14                26     28   \n",
       "20        2022-10-22        2024-05-14                19     27   \n",
       "..               ...               ...               ...    ...   \n",
       "634       2021-08-28        2024-05-14                33     24   \n",
       "639       2023-11-16        2024-05-14                 6     23   \n",
       "640       2022-04-25        2024-05-14                25     32   \n",
       "642       2022-09-22        2024-05-14                20     23   \n",
       "643       2021-08-28        2024-05-14                33     22   \n",
       "\n",
       "     Pontuacao_Desempenho  Satisfacao_Trabalho Nivel_Cargo   Salario  \\\n",
       "1                3.256257             1.711719      Sênior   8798.34   \n",
       "5                4.328231             3.209761      Sênior  10466.00   \n",
       "7                1.086755             1.908626       Pleno   6058.88   \n",
       "12               2.733115             1.820046       Pleno   7252.12   \n",
       "20               4.123725             4.465835       Pleno   7359.37   \n",
       "..                    ...                  ...         ...       ...   \n",
       "634              3.942960             1.273013      Junior   4561.45   \n",
       "639              3.000086             4.095554      Junior   2313.07   \n",
       "640              4.986163             4.746069       Pleno   4353.67   \n",
       "642              4.721714             3.340184       Pleno   4709.75   \n",
       "643              3.573676             4.717769       Pleno   5400.65   \n",
       "\n",
       "     Horas_Extras  Desligamento  \n",
       "1       19.036627             1  \n",
       "5       13.933565             1  \n",
       "7       13.626713             1  \n",
       "12       6.230965             1  \n",
       "20       2.489000             1  \n",
       "..            ...           ...  \n",
       "634     19.068107             1  \n",
       "639      5.863529             1  \n",
       "640      0.089801             1  \n",
       "642     19.098905             1  \n",
       "643      9.485336             1  \n",
       "\n",
       "[144 rows x 10 columns]"
      ]
     },
     "execution_count": 64,
     "metadata": {},
     "output_type": "execute_result"
    }
   ],
   "source": [
    "desligados = df.loc[df['Desligamento']== 1]\n",
    "desligados"
   ]
  },
  {
   "cell_type": "code",
   "execution_count": 65,
   "metadata": {},
   "outputs": [
    {
     "data": {
      "text/plain": [
       "(array([27., 16., 15., 10.,  8., 20., 12., 11.,  6., 19.]),\n",
       " array([ 3. ,  6.2,  9.4, 12.6, 15.8, 19. , 22.2, 25.4, 28.6, 31.8, 35. ]),\n",
       " <BarContainer object of 10 artists>)"
      ]
     },
     "execution_count": 65,
     "metadata": {},
     "output_type": "execute_result"
    },
    {
     "data": {
      "image/png": "[encoded data removed]",
      "text/plain": [
       "<Figure size 640x480 with 1 Axes>"
      ]
     },
     "metadata": {},
     "output_type": "display_data"
    }
   ],
   "source": [
    "plt.hist(desligados['Meses_de_Servico'])"
   ]
  },
  {
   "cell_type": "code",
   "execution_count": 66,
   "metadata": {},
   "outputs": [
    {
     "data": {
      "image/png": "[encoded data removed]",
      "text/plain": [
       "<Figure size 1000x600 with 1 Axes>"
      ]
     },
     "metadata": {},
     "output_type": "display_data"
    }
   ],
   "source": [
    "plt.figure(figsize=(10, 6))  # Ajustar o tamanho da figura\n",
    "plt.hist(desligados['Meses_de_Servico'], bins=10, color='skyblue', edgecolor='black')  # Ajustar bins, cor e borda\n",
    "\n",
    "# Título e rótulos dos eixos\n",
    "plt.title('Distribuição dos Meses de Serviço dos Desligados', fontsize=15)\n",
    "plt.xlabel('Meses de Serviço', fontsize=12)\n",
    "plt.ylabel('Frequência', fontsize=12)\n",
    "\n",
    "# Adicionar uma grade\n",
    "plt.grid(axis='y', alpha=1)\n",
    "\n",
    "# Mostrar o gráfico\n",
    "plt.show()"
   ]
  },
  {
   "cell_type": "code",
   "execution_count": 67,
   "metadata": {},
   "outputs": [
    {
     "data": {
      "image/png": "[encoded data removed]",
      "text/plain": [
       "<Figure size 1000x600 with 1 Axes>"
      ]
     },
     "metadata": {},
     "output_type": "display_data"
    }
   ],
   "source": [
    "contagem_por_cargo = desligados['Nivel_Cargo'].value_counts()\n",
    "\n",
    "# Plotar o gráfico de barras\n",
    "plt.figure(figsize=(10, 6))  # Ajustar o tamanho da figura\n",
    "contagem_por_cargo.plot(kind='bar', color='skyblue', edgecolor='black')\n",
    "\n",
    "# Título e rótulos dos eixos\n",
    "plt.title('Contagem de Pessoas por Cargo', fontsize=15)\n",
    "plt.xlabel('Cargo', fontsize=12)\n",
    "plt.ylabel('Contagem', fontsize=12)\n",
    "\n",
    "# Adicionar uma grade\n",
    "plt.grid(axis='y', alpha=0.75)\n",
    "\n",
    "# Rotacionar os rótulos do eixo x para melhor visualização, se necessário\n",
    "plt.xticks(rotation=45)\n",
    "\n",
    "# Mostrar o gráfico\n",
    "plt.show()"
   ]
  },
  {
   "cell_type": "markdown",
   "metadata": {},
   "source": [
    "Motivo de saída\n",
    "- Pleno: Alto desempenho\n",
    "- Sênior: Número alto de horas extras, desempenho, baixa satisfação"
   ]
  },
  {
   "cell_type": "code",
   "execution_count": 68,
   "metadata": {},
   "outputs": [],
   "source": [
    "df_senior = df.loc[df['Nivel_Cargo']=='Sênior']"
   ]
  },
  {
   "cell_type": "code",
   "execution_count": 69,
   "metadata": {},
   "outputs": [
    {
     "data": {
      "image/png": "[encoded data removed]",
      "text/plain": [
       "<Figure size 800x600 with 2 Axes>"
      ]
     },
     "metadata": {},
     "output_type": "display_data"
    }
   ],
   "source": [
    "\n",
    "# Selecionar as colunas relevantes\n",
    "df_selecionado = df_senior[['Satisfacao_Trabalho', 'Horas_Extras']]\n",
    "\n",
    "# Calcular a matriz de correlação\n",
    "matriz_corr = df_selecionado.corr()\n",
    "\n",
    "# Plotar o heatmap\n",
    "plt.figure(figsize=(8, 6))\n",
    "sns.heatmap(matriz_corr, annot=True, cmap='coolwarm', cbar=True, square=True)\n",
    "\n",
    "# Título e ajustes\n",
    "plt.title('Correlação entre Satisfação no Trabalho e Horas Extras', fontsize=15)\n",
    "\n",
    "# Mostrar o gráfico\n",
    "plt.show()\n"
   ]
  },
  {
   "cell_type": "markdown",
   "metadata": {},
   "source": [
    "Média de Junior ativo e desligado"
   ]
  },
  {
   "cell_type": "code",
   "execution_count": 77,
   "metadata": {},
   "outputs": [
    {
     "data": {
      "text/plain": [
       "Pontuacao_Desempenho       3.003533\n",
       "Satisfacao_Trabalho        2.898736\n",
       "Salario                 3528.247458\n",
       "Horas_Extras               9.593403\n",
       "Idade                     20.898305\n",
       "dtype: float64"
      ]
     },
     "execution_count": 77,
     "metadata": {},
     "output_type": "execute_result"
    }
   ],
   "source": [
    "medias = ['Pontuacao_Desempenho','Satisfacao_Trabalho','Salario','Horas_Extras','Idade']\n",
    "df_junior_ativo = df[(df['Nivel_Cargo'] == 'Junior') & (df['Desligamento'] == 0)]\n",
    "medias_junior_ativo = df_junior_ativo[medias].mean()\n",
    "medias_junior_ativo"
   ]
  },
  {
   "cell_type": "code",
   "execution_count": 71,
   "metadata": {},
   "outputs": [
    {
     "data": {
      "text/plain": [
       "Pontuacao_Desempenho       3.155307\n",
       "Satisfacao_Trabalho        2.826735\n",
       "Salario                 3487.847500\n",
       "Horas_Extras               9.818018\n",
       "Idade                     20.892857\n",
       "dtype: float64"
      ]
     },
     "execution_count": 71,
     "metadata": {},
     "output_type": "execute_result"
    }
   ],
   "source": [
    "medias = ['Pontuacao_Desempenho','Satisfacao_Trabalho','Salario','Horas_Extras','Idade']\n",
    "df_junior_desligado = df[(df['Nivel_Cargo'] == 'Junior') & (df['Desligamento'] == 1)]\n",
    "medias_junior_desligado = df_junior_desligado[medias].mean()\n",
    "medias_junior_desligado"
   ]
  },
  {
   "cell_type": "markdown",
   "metadata": {},
   "source": [
    "Média de Sêniors ativos e desligados"
   ]
  },
  {
   "cell_type": "code",
   "execution_count": 72,
   "metadata": {},
   "outputs": [
    {
     "data": {
      "text/plain": [
       "Pontuacao_Desempenho       3.520831\n",
       "Satisfacao_Trabalho        2.588305\n",
       "Salario                 9492.402791\n",
       "Horas_Extras              19.688996\n",
       "Idade                     38.139535\n",
       "dtype: float64"
      ]
     },
     "execution_count": 72,
     "metadata": {},
     "output_type": "execute_result"
    }
   ],
   "source": [
    "medias = ['Pontuacao_Desempenho','Satisfacao_Trabalho','Salario','Horas_Extras','Idade']\n",
    "df_Senior_desligado = df[(df['Nivel_Cargo'] == 'Sênior') & (df['Desligamento'] == 1)]\n",
    "medias_Senior_desligado = df_Senior_desligado[medias].mean()\n",
    "medias_Senior_desligado"
   ]
  },
  {
   "cell_type": "code",
   "execution_count": 73,
   "metadata": {},
   "outputs": [
    {
     "data": {
      "text/plain": [
       "Pontuacao_Desempenho       3.064078\n",
       "Satisfacao_Trabalho        3.050960\n",
       "Salario                 9498.312081\n",
       "Horas_Extras               9.477452\n",
       "Idade                     37.362416\n",
       "dtype: float64"
      ]
     },
     "execution_count": 73,
     "metadata": {},
     "output_type": "execute_result"
    }
   ],
   "source": [
    "medias = ['Pontuacao_Desempenho','Satisfacao_Trabalho','Salario','Horas_Extras','Idade']\n",
    "df_Senior_ativo = df[(df['Nivel_Cargo'] == 'Sênior') & (df['Desligamento'] == 0)]\n",
    "medias_Senior_ativo = df_Senior_ativo[medias].mean()\n",
    "medias_Senior_ativo"
   ]
  },
  {
   "cell_type": "markdown",
   "metadata": {},
   "source": [
    "Média Plenos ativos e desligados"
   ]
  },
  {
   "cell_type": "code",
   "execution_count": 74,
   "metadata": {},
   "outputs": [
    {
     "data": {
      "text/plain": [
       "Pontuacao_Desempenho       3.324749\n",
       "Satisfacao_Trabalho        3.241992\n",
       "Salario                 6105.076000\n",
       "Horas_Extras               8.418150\n",
       "Idade                     28.622222\n",
       "dtype: float64"
      ]
     },
     "execution_count": 74,
     "metadata": {},
     "output_type": "execute_result"
    }
   ],
   "source": [
    "medias = ['Pontuacao_Desempenho','Satisfacao_Trabalho','Salario','Horas_Extras','Idade']\n",
    "df_pleno_desligado = df[(df['Nivel_Cargo'] == 'Pleno') & (df['Desligamento'] == 1)]\n",
    "medias_pleno_desligado = df_pleno_desligado[medias].mean()\n",
    "medias_pleno_desligado"
   ]
  },
  {
   "cell_type": "code",
   "execution_count": 75,
   "metadata": {},
   "outputs": [
    {
     "data": {
      "text/plain": [
       "Pontuacao_Desempenho       2.788730\n",
       "Satisfacao_Trabalho        2.934565\n",
       "Salario                 5930.900500\n",
       "Horas_Extras               9.326867\n",
       "Idade                     28.127778\n",
       "dtype: float64"
      ]
     },
     "execution_count": 75,
     "metadata": {},
     "output_type": "execute_result"
    }
   ],
   "source": [
    "medias = ['Pontuacao_Desempenho','Satisfacao_Trabalho','Salario','Horas_Extras','Idade']\n",
    "df_pleno_ativo = df[(df['Nivel_Cargo'] == 'Pleno') & (df['Desligamento'] == 0)]\n",
    "medias_pleno_ativo = df_pleno_ativo[medias].mean()\n",
    "medias_pleno_ativo"
   ]
  }
 ],
 "metadata": {
  "kernelspec": {
   "display_name": "base",
   "language": "python",
   "name": "python3"
  },
  "language_info": {
   "codemirror_mode": {
    "name": "ipython",
    "version": 3
   },
   "file_extension": ".py",
   "mimetype": "text/x-python",
   "name": "python",
   "nbconvert_exporter": "python",
   "pygments_lexer": "ipython3",
   "version": "3.11.7"
  }
 },
 "nbformat": 4,
 "nbformat_minor": 2
}
